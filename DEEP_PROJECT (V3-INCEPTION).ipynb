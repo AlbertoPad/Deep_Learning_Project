{
 "cells": [
  {
   "cell_type": "markdown",
   "id": "fc18810c",
   "metadata": {},
   "source": [
    "#  DEEPLEARNING PROJECT\n",
    "\n",
    "\n",
    "\n",
    "\n",
    "\n",
    "Squad **ForeCasting**: \n",
    "\n",
    "Padilla, Alberto\n",
    "Chin Jiménez, Lien\n",
    "Pfaff, Berta\n",
    "Vilaró, Francesc\n",
    "\n",
    "\n",
    "\n",
    "\n",
    "The dataset is organized into 2 folders (train, test) and contains subfolders for each image category (Pneumonia/Normal). There are X-Ray images (JPEG) and 2 categories (Pneumonia/Normal). Chest X-ray images (anterior-posterior) were selected from retrospective cohorts of pediatric patients of one to five years old from Guangzhou Women and Children’s Medical Center, Guangzhou. All chest X-ray imaging was performed as part of patients’ routine clinical care. For the analysis of chest x-ray images, all chest radiographs were initially screened for quality control by removing all low quality or unreadable scans. The diagnoses for the images were then graded by two expert physicians before being cleared for training the AI system. In order to account for any grading errors, the evaluation set was also checked by a third expert."
   ]
  },
  {
   "cell_type": "markdown",
   "id": "1dad55b6",
   "metadata": {},
   "source": [
    "# Libraries"
   ]
  },
  {
   "cell_type": "code",
   "execution_count": 23,
   "id": "6907813c",
   "metadata": {},
   "outputs": [],
   "source": [
    "# Library System\n",
    "import os\n",
    "\n",
    "# Library Images Treatment\n",
    "from PIL import Image\n",
    "import cv2\n",
    "from keras.preprocessing import image\n",
    "from keras.preprocessing.image import ImageDataGenerator\n",
    "\n",
    "# Library Neural Network\n",
    "import tensorflow as tf\n",
    "from tensorflow import keras\n",
    "from keras.layers import Flatten, Dense\n",
    "from keras.models import Model\n",
    "from sklearn.model_selection import train_test_split\n",
    "\n",
    "# Library Graphics\n",
    "import numpy as np\n",
    "import matplotlib.pyplot as plt\n",
    "import matplotlib.patches as patches\n",
    "\n",
    "# Library Counter-Process\n",
    "from tqdm import tqdm\n",
    "\n",
    "# Library Application Form\n",
    "import tkinter as tk"
   ]
  },
  {
   "cell_type": "code",
   "execution_count": 24,
   "id": "cda35b3c",
   "metadata": {},
   "outputs": [
    {
     "data": {
      "text/plain": [
       "'C:\\\\Users\\\\macka\\\\GitHub\\\\DeepLearning\\\\Proyecto'"
      ]
     },
     "execution_count": 24,
     "metadata": {},
     "output_type": "execute_result"
    }
   ],
   "source": [
    "os.getcwd()"
   ]
  },
  {
   "cell_type": "markdown",
   "id": "c56f77d3",
   "metadata": {},
   "source": [
    "# Auxiliary Functions"
   ]
  },
  {
   "cell_type": "markdown",
   "id": "4b9e0b29",
   "metadata": {},
   "source": [
    "**PARAMETERS FORM**"
   ]
  },
  {
   "cell_type": "code",
   "execution_count": 25,
   "id": "17848fb9",
   "metadata": {},
   "outputs": [],
   "source": [
    "def parameters_form():\n",
    "    \n",
    "    # Function to be executed when the \"Save\" button is pressed.\n",
    "    def save_variables():\n",
    "\n",
    "        global IMG_SIZE,num_imagenesXimagen,num_imagenes_totales,test_size,val_size,BATCH_SIZE,EPOCHS\n",
    "\n",
    "        # Get the values entered by the user in the input fields\n",
    "        IMG_SIZE = int(img_size_entry.get()or 128) \n",
    "        num_imagenesXimagen = int(num_imagenes_entry.get()or 0) \n",
    "        num_imagenes_totales=int(num_imagenes_tot_entry.get()or 0) \n",
    "        test_size=float(test_size_entry.get() or 0.11)\n",
    "        val_size=float(val_size_entry.get()or 0.1) \n",
    "        BATCH_SIZE=int(BATCH_SIZE_entry.get()or 32) \n",
    "        EPOCHS=int(EPOCHS_entry.get()or 1) \n",
    "\n",
    "        # Cerrar la ventana\n",
    "        root.destroy()\n",
    "    \n",
    "    # Create the main window\n",
    "    root = tk.Tk()\n",
    "    root.title(\"Parameters Form\")\n",
    "\n",
    "    # Create the necessary widgets (labels, input fields and buttons)\n",
    "    img_size_label = tk.Label(root, text=\"Size Image to Transform \\n def(128x128): \")\n",
    "    img_size_entry = tk.Entry(root)\n",
    "    img_size_label.pack()\n",
    "    img_size_entry.pack()\n",
    "\n",
    "    num_imagenes_label = tk.Label(root, text=\"Images created for EACH image \\n def(0):\")\n",
    "    num_imagenes_entry = tk.Entry(root)\n",
    "    num_imagenes_label.pack()\n",
    "    num_imagenes_entry.pack()\n",
    "    \n",
    "    num_imagenes_tot_label = tk.Label(root, text=\"Total Images Created def(0):\")\n",
    "    num_imagenes_tot_entry = tk.Entry(root)\n",
    "    num_imagenes_tot_label.pack()\n",
    "    num_imagenes_tot_entry.pack()\n",
    "    \n",
    "    test_size_label = tk.Label(root, text=\"Size TEST (0-1) set def(0.11):\")\n",
    "    test_size_entry = tk.Entry(root)\n",
    "    test_size_label.pack()\n",
    "    test_size_entry.pack()\n",
    "    \n",
    "    val_size_label = tk.Label(root, text=\"Size VALIDATION (0-1) set def(0.1):\")\n",
    "    val_size_entry = tk.Entry(root)\n",
    "    val_size_label.pack()\n",
    "    val_size_entry.pack()\n",
    "    \n",
    "    BATCH_SIZE_label = tk.Label(root, text=\"Size BATCH def(32):\")\n",
    "    BATCH_SIZE_entry = tk.Entry(root)\n",
    "    BATCH_SIZE_label.pack()\n",
    "    BATCH_SIZE_entry.pack()\n",
    "    \n",
    "    EPOCHS_label = tk.Label(root, text=\"Size EPOCHS def(1):\")\n",
    "    EPOCHS_entry = tk.Entry(root)\n",
    "    EPOCHS_label.pack()\n",
    "    EPOCHS_entry.pack()\n",
    "\n",
    "    guardar_button = tk.Button(root, text=\"Guardar\", command=save_variables)\n",
    "    guardar_button.pack(side='left')\n",
    "    \n",
    "    button_close = tk.Button(root, text=\"Close\", command=root.destroy)\n",
    "    button_close.pack(side='right')\n",
    "\n",
    "    # Start the main application loop\n",
    "    root.mainloop()"
   ]
  },
  {
   "cell_type": "markdown",
   "id": "ace13178",
   "metadata": {},
   "source": [
    "**DIRECTORY SCANNING AND FILE CONTENT SCANNING FUNCTION**"
   ]
  },
  {
   "cell_type": "code",
   "execution_count": 26,
   "id": "26a44028",
   "metadata": {},
   "outputs": [],
   "source": [
    "def image_exploration(_path):\n",
    "    '''\n",
    "    Create a list of tuples with class, path and size for each image\n",
    "    '''    \n",
    "    tuples_list=[]\n",
    "    num_archivos={}\n",
    "    \n",
    "    # We go through the directory\n",
    "    for raiz, dirs, archivos in os.walk(_path):\n",
    "        num_archivos[raiz]=len(archivos)\n",
    "\n",
    "        \n",
    "        # We get the class (NORMAL or PNEUMONIA), the image size\n",
    "        # and the full path of the image\n",
    "        for archivo in archivos:\n",
    "            image_path=os.path.normpath((os.path.join(raiz, archivo)))\n",
    "            try:\n",
    "                image_class=image_path.split('\\\\')[2]\n",
    "            except:\n",
    "                image_class='NORMAL'\n",
    "                \n",
    "            with Image.open(image_path) as img:\n",
    "                image_size = img.size\n",
    "            \n",
    "        # We create tuplay and add to the list\n",
    "            tuple_image=(image_class, image_path,image_size) # (TEST-TRAIN,CLASS,PATH,SIZE (WIDTH-HEIGHT))\n",
    "            tuples_list.append(tuple_image)\n",
    "    \n",
    "    # Graph Files\n",
    "    plt.bar(list(num_archivos.keys()), num_archivos.values(), color='Blue')\n",
    "    for i, value in enumerate(num_archivos.values()):\n",
    "        plt.text(i, value+(value*0.06), str(value), ha='center')\n",
    "        \n",
    "    plt.xticks(rotation=90)\n",
    "    return tuples_list"
   ]
  },
  {
   "cell_type": "markdown",
   "id": "351f5620",
   "metadata": {},
   "source": [
    "**IMAGE ENLARGEMENT FUNCTION**"
   ]
  },
  {
   "cell_type": "code",
   "execution_count": 27,
   "id": "fa34e98c",
   "metadata": {},
   "outputs": [],
   "source": [
    "def images_creator(_listTuplesImages):\n",
    "    '''\n",
    "    Function which generate _totalImages, creating _numImagesCreate by each images in _listTuplesImages\n",
    "    '''\n",
    "    i=1\n",
    "    \n",
    "   # Create the \"image\" folder if it does not exist\n",
    "    if not os.path.exists('image'):\n",
    "        os.makedirs('image')\n",
    "        \n",
    "    for tuple_images in _listTuplesImages:\n",
    "        if tuple_images[0]=='NORMAL':\n",
    "                image_generator(tuple_images[1])\n",
    "                i+=num_imagenesXimagen           \n",
    "                if i > (num_imagenes_totales):\n",
    "                    break \n",
    "\n",
    "    return print(f'Proceso completado')\n",
    "                "
   ]
  },
  {
   "cell_type": "markdown",
   "id": "907258db",
   "metadata": {},
   "source": [
    "<font size=1>**GENERATING SUB-FUNCTION**</font>"
   ]
  },
  {
   "cell_type": "code",
   "execution_count": 28,
   "id": "4c0621f9",
   "metadata": {},
   "outputs": [],
   "source": [
    "def image_generator(_pathImage):\n",
    "    \n",
    "    # Creates a data generator object that transforms images\n",
    "    datagen = ImageDataGenerator(\n",
    "    rotation_range=30,\n",
    "    width_shift_range=0.2,\n",
    "    height_shift_range=0.2,\n",
    "    shear_range=0.2,\n",
    "    zoom_range=0.2,\n",
    "    horizontal_flip=True,\n",
    "    fill_mode='nearest')\n",
    "    \n",
    "    # Open images\n",
    "    image_array=cv2.imread(_pathImage, cv2.IMREAD_GRAYSCALE)\n",
    "    image_array=np.expand_dims(image_array,axis=2)\n",
    "    i = 1\n",
    "    name_image=_pathImage.split('\\\\')[3]\n",
    "                                   \n",
    "    for batch in datagen.flow(np.array([image_array]), save_format='jpeg'):\n",
    "        for item in tqdm(batch,total=(num_imagenesXimagen)):\n",
    "            cv2.imwrite(f'image/{i}{name_image}', item)\n",
    "        i += 1\n",
    "        if i > (num_imagenesXimagen): \n",
    "            break"
   ]
  },
  {
   "cell_type": "markdown",
   "id": "950f6c75",
   "metadata": {},
   "source": [
    "**SIZE ADJUSTMENT FUNCTION**"
   ]
  },
  {
   "cell_type": "code",
   "execution_count": 29,
   "id": "753d0b60",
   "metadata": {},
   "outputs": [],
   "source": [
    "def format_example(_pathImage):\n",
    "    \"\"\"\n",
    "    returns an image that is reshaped to IMG_SIZE\n",
    "    \n",
    "    \"\"\"\n",
    "    image_array=cv2.imread(_pathImage, cv2.IMREAD_GRAYSCALE)\n",
    "    image_array=np.array(image_array)\n",
    "    image_array=np.expand_dims(image_array,axis=2) \n",
    "    image_array = image_array.reshape((1,) + image_array.shape) \n",
    "    image_array = (image_array/255)\n",
    "    image_array = tf.image.resize(image_array, (IMG_SIZE, IMG_SIZE))\n",
    "    \n",
    "    return image_array"
   ]
  },
  {
   "cell_type": "markdown",
   "id": "ed78225a",
   "metadata": {},
   "source": [
    "**FUNCTION TO CREATE DATASETS**"
   ]
  },
  {
   "cell_type": "code",
   "execution_count": 30,
   "id": "45f57af1",
   "metadata": {},
   "outputs": [],
   "source": [
    "def dataset_creator(_listTuples):\n",
    "    ds_image_NORMAL=[]\n",
    "    ds_image_PNEUMO=[]\n",
    "\n",
    "    for i, tuple_image in tqdm(enumerate(_listTuples), total=len(_listTuples)):\n",
    "        \n",
    "        image_array=format_example(tuple_image[1]) # Change to array\n",
    "        \n",
    "        if tuple_image[0]=='NORMAL':\n",
    "            in_tuple=('NORMAL',image_array)\n",
    "            ds_image_NORMAL.append(in_tuple)\n",
    "        else:\n",
    "            in_tuple=('PNEUMONIA',image_array)\n",
    "            ds_image_PNEUMO.append(in_tuple)\n",
    "\n",
    "    print(\"Proceso completo.\")\n",
    "    return ds_image_NORMAL,ds_image_PNEUMO"
   ]
  },
  {
   "cell_type": "markdown",
   "id": "3d3bb43e",
   "metadata": {},
   "source": [
    "**FUNCTION TO CREATE CONJUNCTIONS X, y**"
   ]
  },
  {
   "cell_type": "code",
   "execution_count": 31,
   "id": "f7ef57bd",
   "metadata": {},
   "outputs": [],
   "source": [
    "def dataset_loader(_listTuples):\n",
    "    '''\n",
    "    \n",
    "    '''\n",
    "    X = [x[1] for x in ds_total]\n",
    "\n",
    "    for i in range(len(X)):\n",
    "        X[i] = tf.reshape(X[i], (IMG_SIZE, IMG_SIZE, 1))\n",
    "\n",
    "    y = [x[0] for x in ds_total]\n",
    "    # Conversion dictionary\n",
    "    label_dict = {\"NORMAL\": 0, \"PNEUMONIA\": 1}\n",
    "\n",
    "    # Apply the conversion to each item in the list\n",
    "    y = [label_dict[label] for label in y]\n",
    "\n",
    "    X = np.asarray(X)\n",
    "    y= np.asarray(y)\n",
    "    return X,y"
   ]
  },
  {
   "cell_type": "markdown",
   "id": "e9df0caa",
   "metadata": {},
   "source": [
    "**FUNCTION TO CONVERT A GREYSCALE IMAGE TO RGB**"
   ]
  },
  {
   "cell_type": "code",
   "execution_count": 32,
   "id": "3ff4a886",
   "metadata": {},
   "outputs": [],
   "source": [
    "def convert_RGB(_X):\n",
    "    '''\n",
    "    transfgorma una imagen de escala de grises a escala RGB, triplicando el numero de canales y el pixel \n",
    "    '''\n",
    "    # Creates a new array Y with the same shape as X but with three channels\n",
    "    X_rgb = np.zeros((_X.shape[0], _X.shape[1], _X.shape[2], 3))\n",
    "\n",
    "    # Duplicates the values of each pixel of X in the new channels\n",
    "    X_rgb[..., 0] = _X[..., 0]\n",
    "    X_rgb[..., 1] = _X[..., 0]\n",
    "    X_rgb[..., 2] = _X[..., 0]\n",
    "\n",
    "    return X_rgb\n"
   ]
  },
  {
   "cell_type": "markdown",
   "id": "3ad0d33d",
   "metadata": {},
   "source": [
    "#  Scanning, Pre-processing and Loading Data"
   ]
  },
  {
   "cell_type": "code",
   "execution_count": 44,
   "id": "198658dc",
   "metadata": {},
   "outputs": [],
   "source": [
    "#Introduce Parameter for the Model.\n",
    "parameters_form()"
   ]
  },
  {
   "cell_type": "markdown",
   "id": "ea54faee",
   "metadata": {},
   "source": [
    "## Exploration "
   ]
  },
  {
   "cell_type": "code",
   "execution_count": 45,
   "id": "b3fb3817",
   "metadata": {},
   "outputs": [
    {
     "data": {
      "text/plain": [
       "('NORMAL', 'datasets\\\\test\\\\NORMAL\\\\IM-0001-0001.jpeg', (1857, 1317))"
      ]
     },
     "execution_count": 45,
     "metadata": {},
     "output_type": "execute_result"
    },
    {
     "data": {
      "image/png": "[encoded data removed]",
      "text/plain": [
       "<Figure size 640x480 with 1 Axes>"
      ]
     },
     "metadata": {},
     "output_type": "display_data"
    }
   ],
   "source": [
    "# Rute\n",
    "dir_images= \"datasets/\"\n",
    "\n",
    "# Creating a list of tuples with (CLASS, PATH, (WIDTH-HEIGHT))\n",
    "images_list=image_exploration(dir_images)\n",
    "images_list[0]"
   ]
  },
  {
   "cell_type": "markdown",
   "id": "0a8cd26b",
   "metadata": {},
   "source": [
    "## Image Augmentation"
   ]
  },
  {
   "cell_type": "code",
   "execution_count": 46,
   "id": "96868c09",
   "metadata": {},
   "outputs": [
    {
     "name": "stderr",
     "output_type": "stream",
     "text": [
      "1it [00:00, 39.63it/s]"
     ]
    },
    {
     "name": "stdout",
     "output_type": "stream",
     "text": [
      "Proceso completado\n"
     ]
    },
    {
     "name": "stderr",
     "output_type": "stream",
     "text": [
      "\n"
     ]
    }
   ],
   "source": [
    "# List of Tuples\n",
    "images_creator(images_list)"
   ]
  },
  {
   "cell_type": "markdown",
   "id": "3bcc24d7",
   "metadata": {},
   "source": [
    "## List of Created Images"
   ]
  },
  {
   "cell_type": "code",
   "execution_count": 47,
   "id": "f9767e7f",
   "metadata": {},
   "outputs": [
    {
     "data": {
      "text/plain": [
       "('NORMAL', 'image\\\\1IM-0001-0001.jpeg', (1857, 1317))"
      ]
     },
     "execution_count": 47,
     "metadata": {},
     "output_type": "execute_result"
    },
    {
     "data": {
      "image/png": "[encoded data removed]",
      "text/plain": [
       "<Figure size 640x480 with 1 Axes>"
      ]
     },
     "metadata": {},
     "output_type": "display_data"
    }
   ],
   "source": [
    "# Rute\n",
    "dir_images_news= \"image/\"\n",
    "\n",
    "# Creating a list of tuples with (CLASS, PATH, (WIDTH-HEIGHT))\n",
    "new_images_list=image_exploration(dir_images_news)\n",
    "new_images_list[0] "
   ]
  },
  {
   "cell_type": "markdown",
   "id": "e2b1f678",
   "metadata": {},
   "source": [
    "## Dataset creation (NORMAL - PNEUMONIA)"
   ]
  },
  {
   "cell_type": "code",
   "execution_count": 48,
   "id": "7c22fdde",
   "metadata": {},
   "outputs": [
    {
     "name": "stderr",
     "output_type": "stream",
     "text": [
      "100%|██████████| 8340/8340 [02:40<00:00, 52.00it/s] "
     ]
    },
    {
     "name": "stdout",
     "output_type": "stream",
     "text": [
      "Proceso completo.\n"
     ]
    },
    {
     "name": "stderr",
     "output_type": "stream",
     "text": [
      "\n"
     ]
    }
   ],
   "source": [
    "ds_list=images_list+new_images_list\n",
    "ds_NORMAL, ds_PNEUMO=dataset_creator(ds_list)\n",
    "ds_total=ds_NORMAL+ds_PNEUMO"
   ]
  },
  {
   "cell_type": "markdown",
   "id": "69f2d486",
   "metadata": {},
   "source": [
    "## Load Datasets"
   ]
  },
  {
   "cell_type": "code",
   "execution_count": 49,
   "id": "6a95541a",
   "metadata": {},
   "outputs": [],
   "source": [
    "X,y=dataset_loader(ds_total)"
   ]
  },
  {
   "cell_type": "markdown",
   "id": "64b73a58",
   "metadata": {},
   "source": [
    "# DEFINITION OF THE MODEL"
   ]
  },
  {
   "cell_type": "markdown",
   "id": "31d3b5df",
   "metadata": {},
   "source": [
    "## Own Model"
   ]
  },
  {
   "cell_type": "markdown",
   "id": "9fd7983c",
   "metadata": {},
   "source": [
    "<font size=3>**SUBSET OF TRAIN, TEST & VALIDATION**</font>"
   ]
  },
  {
   "cell_type": "code",
   "execution_count": 50,
   "id": "d0f8145e",
   "metadata": {},
   "outputs": [
    {
     "name": "stdout",
     "output_type": "stream",
     "text": [
      "X (train/test/val):6680,834,826 -- y (train/test/val):6680,834,826\n"
     ]
    }
   ],
   "source": [
    "# Definition\n",
    "X_train, X_test, y_train, y_test = train_test_split(X, y, test_size=val_size, random_state= 42)\n",
    "X_train, X_val, y_train, y_val =train_test_split(X_train,y_train, test_size=test_size,random_state= 42)\n",
    "print(f'X (train/test/val):{len(X_train)},{len(X_test)},{len(X_val)} -- y (train/test/val):{len(y_train)},{len(y_test)},{len(y_val)}')"
   ]
  },
  {
   "cell_type": "markdown",
   "id": "f88cd911",
   "metadata": {},
   "source": [
    "<font size=3>**MODEL**</font>"
   ]
  },
  {
   "cell_type": "code",
   "execution_count": 51,
   "id": "42f1b3ab",
   "metadata": {},
   "outputs": [],
   "source": [
    "model_PROP= tf.keras.models.Sequential([\n",
    "    tf.keras.layers.Conv2D(32, (3, 3), activation='relu', input_shape=(IMG_SIZE, IMG_SIZE, 1)),\n",
    "    tf.keras.layers.MaxPooling2D((2, 2)),\n",
    "    tf.keras.layers.Conv2D(64, (3, 3), activation='relu'),\n",
    "    tf.keras.layers.MaxPooling2D((2, 2)),\n",
    "    tf.keras.layers.Flatten(),\n",
    "    tf.keras.layers.Flatten(input_shape= (IMG_SIZE, IMG_SIZE, 1)),\n",
    "    tf.keras.layers.Dense(128, activation= 'relu'),\n",
    "    tf.keras.layers.Dense(64, activation= 'relu'),\n",
    "    tf.keras.layers.Dense(32, activation= 'relu'),\n",
    "    tf.keras.layers.Dense(16, activation= 'relu'),\n",
    "    tf.keras.layers.Dropout(0.1),\n",
    "    tf.keras.layers.Dense(1, activation= 'sigmoid')\n",
    "])\n",
    "\n",
    "model_PROP.compile(optimizer= 'adam',loss= 'binary_crossentropy', metrics= ['accuracy'])\n",
    "#loss='sparse_categorical_crossentropy',"
   ]
  },
  {
   "cell_type": "markdown",
   "id": "692d4ad9",
   "metadata": {},
   "source": [
    "<font size=2>**MODEL TRAINING**</font>"
   ]
  },
  {
   "cell_type": "code",
   "execution_count": 52,
   "id": "8c04f5fc",
   "metadata": {},
   "outputs": [
    {
     "name": "stdout",
     "output_type": "stream",
     "text": [
      "Epoch 1/4\n",
      "209/209 [==============================] - 79s 369ms/step - loss: 0.2593 - accuracy: 0.8910 - val_loss: 0.1435 - val_accuracy: 0.9467\n",
      "Epoch 2/4\n",
      "209/209 [==============================] - 71s 340ms/step - loss: 0.1135 - accuracy: 0.9584 - val_loss: 0.1371 - val_accuracy: 0.9443\n",
      "Epoch 3/4\n",
      "209/209 [==============================] - 79s 377ms/step - loss: 0.0854 - accuracy: 0.9701 - val_loss: 0.1080 - val_accuracy: 0.9588\n",
      "Epoch 4/4\n",
      "209/209 [==============================] - 73s 349ms/step - loss: 0.0547 - accuracy: 0.9810 - val_loss: 0.1224 - val_accuracy: 0.9576\n"
     ]
    }
   ],
   "source": [
    "history=model_PROP.fit(X_train, y_train, validation_data=(X_val, y_val), epochs=EPOCHS, batch_size=BATCH_SIZE)"
   ]
  },
  {
   "cell_type": "markdown",
   "id": "c5971c6f",
   "metadata": {},
   "source": [
    "<font size=2>**MODEL EVALUATION**</font>"
   ]
  },
  {
   "cell_type": "code",
   "execution_count": 53,
   "id": "0e4359f3",
   "metadata": {},
   "outputs": [
    {
     "name": "stdout",
     "output_type": "stream",
     "text": [
      "27/27 [==============================] - 4s 130ms/step - loss: 0.0938 - accuracy: 0.9664\n",
      "ACC. TEST: 0.9664268493652344 -- ACC. TRAIN: 0.9809880256652832 \n"
     ]
    }
   ],
   "source": [
    "accuracy_train = model_PROP.history.history['accuracy'][-1]\n",
    "loss0, accuracy_test = model_PROP.evaluate(X_test, y_test)\n",
    "\n",
    "print(f'ACC. TEST: {accuracy_test} -- ACC. TRAIN: {accuracy_train} ')"
   ]
  },
  {
   "cell_type": "markdown",
   "id": "ade38131",
   "metadata": {},
   "source": [
    "<font size=2>**LEARNING CURVES**</font>"
   ]
  },
  {
   "cell_type": "code",
   "execution_count": 54,
   "id": "24227e24",
   "metadata": {},
   "outputs": [
    {
     "name": "stderr",
     "output_type": "stream",
     "text": [
      "C:\\Users\\macka\\AppData\\Local\\Temp\\ipykernel_27216\\3055823002.py:19: UserWarning: Matplotlib is currently using module://matplotlib_inline.backend_inline, which is a non-GUI backend, so cannot show the figure.\n",
      "  fig.show()\n"
     ]
    },
    {
     "data": {
      "image/png": "[encoded data removed]",
      "text/plain": [
       "<Figure size 1000x500 with 2 Axes>"
      ]
     },
     "metadata": {},
     "output_type": "display_data"
    }
   ],
   "source": [
    "fig, axs = plt.subplots(nrows=1, ncols=2, figsize=(10, 5))\n",
    "\n",
    "# To visualize the accuracy of training and validation over time\n",
    "axs[0].plot(history.history['accuracy'])\n",
    "axs[0].plot(history.history['val_accuracy'])\n",
    "axs[0].set_title('Curvas de Aprendizaje')\n",
    "axs[0].set_ylabel('Precisión')\n",
    "axs[0].set_xlabel('Época')\n",
    "axs[0].legend(['Entrenamiento', 'Validación'], loc='upper left')\n",
    "\n",
    "\n",
    "# Visualize the loss of training and validation over time\n",
    "axs[1].plot(history.history['loss'])\n",
    "axs[1].plot(history.history['val_loss'])\n",
    "axs[1].set_title('Curvas de Aprendizaje')\n",
    "axs[1].set_ylabel('Pérdida')\n",
    "axs[1].set_xlabel('Época')\n",
    "axs[1].legend(['Entrenamiento', 'Validación'], loc='upper left')\n",
    "fig.show()"
   ]
  },
  {
   "cell_type": "markdown",
   "id": "751ab4e3",
   "metadata": {},
   "source": [
    "<font size=2>**SAVE MODEL**</font>"
   ]
  },
  {
   "cell_type": "code",
   "execution_count": null,
   "id": "4917e160",
   "metadata": {},
   "outputs": [],
   "source": [
    "#Save the model once it's stored\n",
    "model_PROP.save(\"pneumonia_recognizer.hSpy\")\n"
   ]
  },
  {
   "cell_type": "markdown",
   "id": "e09dc77b",
   "metadata": {},
   "source": [
    "## Mod. InceptionV3"
   ]
  },
  {
   "cell_type": "code",
   "execution_count": 66,
   "id": "96c8ddb5",
   "metadata": {},
   "outputs": [],
   "source": [
    "#Introduce Parameter for the Model.\n",
    "parameters_form()"
   ]
  },
  {
   "cell_type": "code",
   "execution_count": 67,
   "id": "365a5c5d",
   "metadata": {},
   "outputs": [
    {
     "name": "stderr",
     "output_type": "stream",
     "text": [
      "100%|██████████| 8340/8340 [02:39<00:00, 52.30it/s] "
     ]
    },
    {
     "name": "stdout",
     "output_type": "stream",
     "text": [
      "Proceso completo.\n"
     ]
    },
    {
     "name": "stderr",
     "output_type": "stream",
     "text": [
      "\n"
     ]
    }
   ],
   "source": [
    "# Create Datasets\n",
    "ds_list=images_list+new_images_list\n",
    "ds_NORMAL, ds_PNEUMO=dataset_creator(ds_list)\n",
    "ds_total=ds_NORMAL+ds_PNEUMO"
   ]
  },
  {
   "cell_type": "code",
   "execution_count": 68,
   "id": "32ddf10b",
   "metadata": {},
   "outputs": [],
   "source": [
    "#Load Dataset\n",
    "X,y=dataset_loader(ds_total)"
   ]
  },
  {
   "cell_type": "markdown",
   "id": "e4d19138",
   "metadata": {},
   "source": [
    "<font size=3>**Convert Image to RGB (...,...,...,3)**</font>"
   ]
  },
  {
   "cell_type": "code",
   "execution_count": 69,
   "id": "685491e1",
   "metadata": {},
   "outputs": [],
   "source": [
    "X_rgb=convert_RGB(X)"
   ]
  },
  {
   "cell_type": "markdown",
   "id": "1f5e98f2",
   "metadata": {},
   "source": [
    "<font size=3>**SUBSET OF TRAIN, TEST & VALIDATION**</font>"
   ]
  },
  {
   "cell_type": "code",
   "execution_count": 70,
   "id": "c871afb5",
   "metadata": {},
   "outputs": [
    {
     "name": "stdout",
     "output_type": "stream",
     "text": [
      "X (train/test/val):6680,834,826 -- y (train/test/val):6680,834,826\n"
     ]
    }
   ],
   "source": [
    "# Set of data\n",
    "X_train, X_test, y_train, y_test = train_test_split(X_rgb, y, test_size=val_size, random_state= 42)\n",
    "X_train, X_val, y_train, y_val =train_test_split(X_train,y_train, test_size=test_size,random_state= 42)\n",
    "\n",
    "print(f'X (train/test/val):{len(X_train)},{len(X_test)},{len(X_val)} -- y (train/test/val):{len(y_train)},{len(y_test)},{len(y_val)}')"
   ]
  },
  {
   "cell_type": "markdown",
   "id": "7c48f6e3",
   "metadata": {},
   "source": [
    "<font size=3>**MODEL V3**</font>"
   ]
  },
  {
   "cell_type": "code",
   "execution_count": 71,
   "id": "68b41053",
   "metadata": {},
   "outputs": [],
   "source": [
    "base_mod_V3 = tf.keras.applications.InceptionV3(input_shape=(IMG_SIZE, IMG_SIZE, 3),\n",
    "                                                include_top=False,\n",
    "                                                weights='imagenet')"
   ]
  },
  {
   "cell_type": "code",
   "execution_count": 78,
   "id": "e12f1d57",
   "metadata": {},
   "outputs": [
    {
     "name": "stdout",
     "output_type": "stream",
     "text": [
      "Model: \"inception_v3\"\n",
      "__________________________________________________________________________________________________\n",
      "Layer (type)                    Output Shape         Param #     Connected to                     \n",
      "==================================================================================================\n",
      "input_2 (InputLayer)            [(None, 128, 128, 3) 0                                            \n",
      "__________________________________________________________________________________________________\n",
      "conv2d_100 (Conv2D)             (None, 63, 63, 32)   864         input_2[0][0]                    \n",
      "__________________________________________________________________________________________________\n",
      "batch_normalization_94 (BatchNo (None, 63, 63, 32)   96          conv2d_100[0][0]                 \n",
      "__________________________________________________________________________________________________\n",
      "activation_94 (Activation)      (None, 63, 63, 32)   0           batch_normalization_94[0][0]     \n",
      "__________________________________________________________________________________________________\n",
      "conv2d_101 (Conv2D)             (None, 61, 61, 32)   9216        activation_94[0][0]              \n",
      "__________________________________________________________________________________________________\n",
      "batch_normalization_95 (BatchNo (None, 61, 61, 32)   96          conv2d_101[0][0]                 \n",
      "__________________________________________________________________________________________________\n",
      "activation_95 (Activation)      (None, 61, 61, 32)   0           batch_normalization_95[0][0]     \n",
      "__________________________________________________________________________________________________\n",
      "conv2d_102 (Conv2D)             (None, 61, 61, 64)   18432       activation_95[0][0]              \n",
      "__________________________________________________________________________________________________\n",
      "batch_normalization_96 (BatchNo (None, 61, 61, 64)   192         conv2d_102[0][0]                 \n",
      "__________________________________________________________________________________________________\n",
      "activation_96 (Activation)      (None, 61, 61, 64)   0           batch_normalization_96[0][0]     \n",
      "__________________________________________________________________________________________________\n",
      "max_pooling2d_10 (MaxPooling2D) (None, 30, 30, 64)   0           activation_96[0][0]              \n",
      "__________________________________________________________________________________________________\n",
      "conv2d_103 (Conv2D)             (None, 30, 30, 80)   5120        max_pooling2d_10[0][0]           \n",
      "__________________________________________________________________________________________________\n",
      "batch_normalization_97 (BatchNo (None, 30, 30, 80)   240         conv2d_103[0][0]                 \n",
      "__________________________________________________________________________________________________\n",
      "activation_97 (Activation)      (None, 30, 30, 80)   0           batch_normalization_97[0][0]     \n",
      "__________________________________________________________________________________________________\n",
      "conv2d_104 (Conv2D)             (None, 28, 28, 192)  138240      activation_97[0][0]              \n",
      "__________________________________________________________________________________________________\n",
      "batch_normalization_98 (BatchNo (None, 28, 28, 192)  576         conv2d_104[0][0]                 \n",
      "__________________________________________________________________________________________________\n",
      "activation_98 (Activation)      (None, 28, 28, 192)  0           batch_normalization_98[0][0]     \n",
      "__________________________________________________________________________________________________\n",
      "max_pooling2d_11 (MaxPooling2D) (None, 13, 13, 192)  0           activation_98[0][0]              \n",
      "__________________________________________________________________________________________________\n",
      "conv2d_108 (Conv2D)             (None, 13, 13, 64)   12288       max_pooling2d_11[0][0]           \n",
      "__________________________________________________________________________________________________\n",
      "batch_normalization_102 (BatchN (None, 13, 13, 64)   192         conv2d_108[0][0]                 \n",
      "__________________________________________________________________________________________________\n",
      "activation_102 (Activation)     (None, 13, 13, 64)   0           batch_normalization_102[0][0]    \n",
      "__________________________________________________________________________________________________\n",
      "conv2d_106 (Conv2D)             (None, 13, 13, 48)   9216        max_pooling2d_11[0][0]           \n",
      "__________________________________________________________________________________________________\n",
      "conv2d_109 (Conv2D)             (None, 13, 13, 96)   55296       activation_102[0][0]             \n",
      "__________________________________________________________________________________________________\n",
      "batch_normalization_100 (BatchN (None, 13, 13, 48)   144         conv2d_106[0][0]                 \n",
      "__________________________________________________________________________________________________\n",
      "batch_normalization_103 (BatchN (None, 13, 13, 96)   288         conv2d_109[0][0]                 \n",
      "__________________________________________________________________________________________________\n",
      "activation_100 (Activation)     (None, 13, 13, 48)   0           batch_normalization_100[0][0]    \n",
      "__________________________________________________________________________________________________\n",
      "activation_103 (Activation)     (None, 13, 13, 96)   0           batch_normalization_103[0][0]    \n",
      "__________________________________________________________________________________________________\n",
      "average_pooling2d_9 (AveragePoo (None, 13, 13, 192)  0           max_pooling2d_11[0][0]           \n",
      "__________________________________________________________________________________________________\n",
      "conv2d_105 (Conv2D)             (None, 13, 13, 64)   12288       max_pooling2d_11[0][0]           \n",
      "__________________________________________________________________________________________________\n",
      "conv2d_107 (Conv2D)             (None, 13, 13, 64)   76800       activation_100[0][0]             \n",
      "__________________________________________________________________________________________________\n",
      "conv2d_110 (Conv2D)             (None, 13, 13, 96)   82944       activation_103[0][0]             \n",
      "__________________________________________________________________________________________________\n",
      "conv2d_111 (Conv2D)             (None, 13, 13, 32)   6144        average_pooling2d_9[0][0]        \n",
      "__________________________________________________________________________________________________\n",
      "batch_normalization_99 (BatchNo (None, 13, 13, 64)   192         conv2d_105[0][0]                 \n",
      "__________________________________________________________________________________________________\n",
      "batch_normalization_101 (BatchN (None, 13, 13, 64)   192         conv2d_107[0][0]                 \n",
      "__________________________________________________________________________________________________\n",
      "batch_normalization_104 (BatchN (None, 13, 13, 96)   288         conv2d_110[0][0]                 \n",
      "__________________________________________________________________________________________________\n",
      "batch_normalization_105 (BatchN (None, 13, 13, 32)   96          conv2d_111[0][0]                 \n",
      "__________________________________________________________________________________________________\n",
      "activation_99 (Activation)      (None, 13, 13, 64)   0           batch_normalization_99[0][0]     \n",
      "__________________________________________________________________________________________________\n",
      "activation_101 (Activation)     (None, 13, 13, 64)   0           batch_normalization_101[0][0]    \n",
      "__________________________________________________________________________________________________\n",
      "activation_104 (Activation)     (None, 13, 13, 96)   0           batch_normalization_104[0][0]    \n",
      "__________________________________________________________________________________________________\n",
      "activation_105 (Activation)     (None, 13, 13, 32)   0           batch_normalization_105[0][0]    \n",
      "__________________________________________________________________________________________________\n",
      "mixed0 (Concatenate)            (None, 13, 13, 256)  0           activation_99[0][0]              \n",
      "                                                                 activation_101[0][0]             \n",
      "                                                                 activation_104[0][0]             \n",
      "                                                                 activation_105[0][0]             \n",
      "__________________________________________________________________________________________________\n",
      "conv2d_115 (Conv2D)             (None, 13, 13, 64)   16384       mixed0[0][0]                     \n",
      "__________________________________________________________________________________________________\n",
      "batch_normalization_109 (BatchN (None, 13, 13, 64)   192         conv2d_115[0][0]                 \n",
      "__________________________________________________________________________________________________\n",
      "activation_109 (Activation)     (None, 13, 13, 64)   0           batch_normalization_109[0][0]    \n",
      "__________________________________________________________________________________________________\n",
      "conv2d_113 (Conv2D)             (None, 13, 13, 48)   12288       mixed0[0][0]                     \n",
      "__________________________________________________________________________________________________\n",
      "conv2d_116 (Conv2D)             (None, 13, 13, 96)   55296       activation_109[0][0]             \n",
      "__________________________________________________________________________________________________\n",
      "batch_normalization_107 (BatchN (None, 13, 13, 48)   144         conv2d_113[0][0]                 \n",
      "__________________________________________________________________________________________________\n",
      "batch_normalization_110 (BatchN (None, 13, 13, 96)   288         conv2d_116[0][0]                 \n",
      "__________________________________________________________________________________________________\n",
      "activation_107 (Activation)     (None, 13, 13, 48)   0           batch_normalization_107[0][0]    \n",
      "__________________________________________________________________________________________________\n",
      "activation_110 (Activation)     (None, 13, 13, 96)   0           batch_normalization_110[0][0]    \n",
      "__________________________________________________________________________________________________\n",
      "average_pooling2d_10 (AveragePo (None, 13, 13, 256)  0           mixed0[0][0]                     \n",
      "__________________________________________________________________________________________________\n",
      "conv2d_112 (Conv2D)             (None, 13, 13, 64)   16384       mixed0[0][0]                     \n",
      "__________________________________________________________________________________________________\n",
      "conv2d_114 (Conv2D)             (None, 13, 13, 64)   76800       activation_107[0][0]             \n",
      "__________________________________________________________________________________________________\n",
      "conv2d_117 (Conv2D)             (None, 13, 13, 96)   82944       activation_110[0][0]             \n",
      "__________________________________________________________________________________________________\n",
      "conv2d_118 (Conv2D)             (None, 13, 13, 64)   16384       average_pooling2d_10[0][0]       \n",
      "__________________________________________________________________________________________________\n",
      "batch_normalization_106 (BatchN (None, 13, 13, 64)   192         conv2d_112[0][0]                 \n",
      "__________________________________________________________________________________________________\n",
      "batch_normalization_108 (BatchN (None, 13, 13, 64)   192         conv2d_114[0][0]                 \n",
      "__________________________________________________________________________________________________\n",
      "batch_normalization_111 (BatchN (None, 13, 13, 96)   288         conv2d_117[0][0]                 \n",
      "__________________________________________________________________________________________________\n",
      "batch_normalization_112 (BatchN (None, 13, 13, 64)   192         conv2d_118[0][0]                 \n",
      "__________________________________________________________________________________________________\n",
      "activation_106 (Activation)     (None, 13, 13, 64)   0           batch_normalization_106[0][0]    \n",
      "__________________________________________________________________________________________________\n",
      "activation_108 (Activation)     (None, 13, 13, 64)   0           batch_normalization_108[0][0]    \n",
      "__________________________________________________________________________________________________\n",
      "activation_111 (Activation)     (None, 13, 13, 96)   0           batch_normalization_111[0][0]    \n",
      "__________________________________________________________________________________________________\n",
      "activation_112 (Activation)     (None, 13, 13, 64)   0           batch_normalization_112[0][0]    \n",
      "__________________________________________________________________________________________________\n",
      "mixed1 (Concatenate)            (None, 13, 13, 288)  0           activation_106[0][0]             \n",
      "                                                                 activation_108[0][0]             \n",
      "                                                                 activation_111[0][0]             \n",
      "                                                                 activation_112[0][0]             \n",
      "__________________________________________________________________________________________________\n",
      "conv2d_122 (Conv2D)             (None, 13, 13, 64)   18432       mixed1[0][0]                     \n",
      "__________________________________________________________________________________________________\n",
      "batch_normalization_116 (BatchN (None, 13, 13, 64)   192         conv2d_122[0][0]                 \n",
      "__________________________________________________________________________________________________\n",
      "activation_116 (Activation)     (None, 13, 13, 64)   0           batch_normalization_116[0][0]    \n",
      "__________________________________________________________________________________________________\n",
      "conv2d_120 (Conv2D)             (None, 13, 13, 48)   13824       mixed1[0][0]                     \n",
      "__________________________________________________________________________________________________\n",
      "conv2d_123 (Conv2D)             (None, 13, 13, 96)   55296       activation_116[0][0]             \n",
      "__________________________________________________________________________________________________\n",
      "batch_normalization_114 (BatchN (None, 13, 13, 48)   144         conv2d_120[0][0]                 \n",
      "__________________________________________________________________________________________________\n",
      "batch_normalization_117 (BatchN (None, 13, 13, 96)   288         conv2d_123[0][0]                 \n",
      "__________________________________________________________________________________________________\n",
      "activation_114 (Activation)     (None, 13, 13, 48)   0           batch_normalization_114[0][0]    \n",
      "__________________________________________________________________________________________________\n",
      "activation_117 (Activation)     (None, 13, 13, 96)   0           batch_normalization_117[0][0]    \n",
      "__________________________________________________________________________________________________\n",
      "average_pooling2d_11 (AveragePo (None, 13, 13, 288)  0           mixed1[0][0]                     \n",
      "__________________________________________________________________________________________________\n",
      "conv2d_119 (Conv2D)             (None, 13, 13, 64)   18432       mixed1[0][0]                     \n",
      "__________________________________________________________________________________________________\n",
      "conv2d_121 (Conv2D)             (None, 13, 13, 64)   76800       activation_114[0][0]             \n",
      "__________________________________________________________________________________________________\n",
      "conv2d_124 (Conv2D)             (None, 13, 13, 96)   82944       activation_117[0][0]             \n",
      "__________________________________________________________________________________________________\n",
      "conv2d_125 (Conv2D)             (None, 13, 13, 64)   18432       average_pooling2d_11[0][0]       \n",
      "__________________________________________________________________________________________________\n",
      "batch_normalization_113 (BatchN (None, 13, 13, 64)   192         conv2d_119[0][0]                 \n",
      "__________________________________________________________________________________________________\n",
      "batch_normalization_115 (BatchN (None, 13, 13, 64)   192         conv2d_121[0][0]                 \n",
      "__________________________________________________________________________________________________\n",
      "batch_normalization_118 (BatchN (None, 13, 13, 96)   288         conv2d_124[0][0]                 \n",
      "__________________________________________________________________________________________________\n",
      "batch_normalization_119 (BatchN (None, 13, 13, 64)   192         conv2d_125[0][0]                 \n",
      "__________________________________________________________________________________________________\n",
      "activation_113 (Activation)     (None, 13, 13, 64)   0           batch_normalization_113[0][0]    \n",
      "__________________________________________________________________________________________________\n",
      "activation_115 (Activation)     (None, 13, 13, 64)   0           batch_normalization_115[0][0]    \n",
      "__________________________________________________________________________________________________\n",
      "activation_118 (Activation)     (None, 13, 13, 96)   0           batch_normalization_118[0][0]    \n",
      "__________________________________________________________________________________________________\n",
      "activation_119 (Activation)     (None, 13, 13, 64)   0           batch_normalization_119[0][0]    \n",
      "__________________________________________________________________________________________________\n",
      "mixed2 (Concatenate)            (None, 13, 13, 288)  0           activation_113[0][0]             \n",
      "                                                                 activation_115[0][0]             \n",
      "                                                                 activation_118[0][0]             \n",
      "                                                                 activation_119[0][0]             \n",
      "__________________________________________________________________________________________________\n",
      "conv2d_127 (Conv2D)             (None, 13, 13, 64)   18432       mixed2[0][0]                     \n",
      "__________________________________________________________________________________________________\n",
      "batch_normalization_121 (BatchN (None, 13, 13, 64)   192         conv2d_127[0][0]                 \n",
      "__________________________________________________________________________________________________\n",
      "activation_121 (Activation)     (None, 13, 13, 64)   0           batch_normalization_121[0][0]    \n",
      "__________________________________________________________________________________________________\n",
      "conv2d_128 (Conv2D)             (None, 13, 13, 96)   55296       activation_121[0][0]             \n",
      "__________________________________________________________________________________________________\n",
      "batch_normalization_122 (BatchN (None, 13, 13, 96)   288         conv2d_128[0][0]                 \n",
      "__________________________________________________________________________________________________\n",
      "activation_122 (Activation)     (None, 13, 13, 96)   0           batch_normalization_122[0][0]    \n",
      "__________________________________________________________________________________________________\n",
      "conv2d_126 (Conv2D)             (None, 6, 6, 384)    995328      mixed2[0][0]                     \n",
      "__________________________________________________________________________________________________\n",
      "conv2d_129 (Conv2D)             (None, 6, 6, 96)     82944       activation_122[0][0]             \n",
      "__________________________________________________________________________________________________\n",
      "batch_normalization_120 (BatchN (None, 6, 6, 384)    1152        conv2d_126[0][0]                 \n",
      "__________________________________________________________________________________________________\n",
      "batch_normalization_123 (BatchN (None, 6, 6, 96)     288         conv2d_129[0][0]                 \n",
      "__________________________________________________________________________________________________\n",
      "activation_120 (Activation)     (None, 6, 6, 384)    0           batch_normalization_120[0][0]    \n",
      "__________________________________________________________________________________________________\n",
      "activation_123 (Activation)     (None, 6, 6, 96)     0           batch_normalization_123[0][0]    \n",
      "__________________________________________________________________________________________________\n",
      "max_pooling2d_12 (MaxPooling2D) (None, 6, 6, 288)    0           mixed2[0][0]                     \n",
      "__________________________________________________________________________________________________\n",
      "mixed3 (Concatenate)            (None, 6, 6, 768)    0           activation_120[0][0]             \n",
      "                                                                 activation_123[0][0]             \n",
      "                                                                 max_pooling2d_12[0][0]           \n",
      "__________________________________________________________________________________________________\n",
      "conv2d_134 (Conv2D)             (None, 6, 6, 128)    98304       mixed3[0][0]                     \n",
      "__________________________________________________________________________________________________\n",
      "batch_normalization_128 (BatchN (None, 6, 6, 128)    384         conv2d_134[0][0]                 \n",
      "__________________________________________________________________________________________________\n",
      "activation_128 (Activation)     (None, 6, 6, 128)    0           batch_normalization_128[0][0]    \n",
      "__________________________________________________________________________________________________\n",
      "conv2d_135 (Conv2D)             (None, 6, 6, 128)    114688      activation_128[0][0]             \n",
      "__________________________________________________________________________________________________\n",
      "batch_normalization_129 (BatchN (None, 6, 6, 128)    384         conv2d_135[0][0]                 \n",
      "__________________________________________________________________________________________________\n",
      "activation_129 (Activation)     (None, 6, 6, 128)    0           batch_normalization_129[0][0]    \n",
      "__________________________________________________________________________________________________\n",
      "conv2d_131 (Conv2D)             (None, 6, 6, 128)    98304       mixed3[0][0]                     \n",
      "__________________________________________________________________________________________________\n",
      "conv2d_136 (Conv2D)             (None, 6, 6, 128)    114688      activation_129[0][0]             \n",
      "__________________________________________________________________________________________________\n",
      "batch_normalization_125 (BatchN (None, 6, 6, 128)    384         conv2d_131[0][0]                 \n",
      "__________________________________________________________________________________________________\n",
      "batch_normalization_130 (BatchN (None, 6, 6, 128)    384         conv2d_136[0][0]                 \n",
      "__________________________________________________________________________________________________\n",
      "activation_125 (Activation)     (None, 6, 6, 128)    0           batch_normalization_125[0][0]    \n",
      "__________________________________________________________________________________________________\n",
      "activation_130 (Activation)     (None, 6, 6, 128)    0           batch_normalization_130[0][0]    \n",
      "__________________________________________________________________________________________________\n",
      "conv2d_132 (Conv2D)             (None, 6, 6, 128)    114688      activation_125[0][0]             \n",
      "__________________________________________________________________________________________________\n",
      "conv2d_137 (Conv2D)             (None, 6, 6, 128)    114688      activation_130[0][0]             \n",
      "__________________________________________________________________________________________________\n",
      "batch_normalization_126 (BatchN (None, 6, 6, 128)    384         conv2d_132[0][0]                 \n",
      "__________________________________________________________________________________________________\n",
      "batch_normalization_131 (BatchN (None, 6, 6, 128)    384         conv2d_137[0][0]                 \n",
      "__________________________________________________________________________________________________\n",
      "activation_126 (Activation)     (None, 6, 6, 128)    0           batch_normalization_126[0][0]    \n",
      "__________________________________________________________________________________________________\n",
      "activation_131 (Activation)     (None, 6, 6, 128)    0           batch_normalization_131[0][0]    \n",
      "__________________________________________________________________________________________________\n",
      "average_pooling2d_12 (AveragePo (None, 6, 6, 768)    0           mixed3[0][0]                     \n",
      "__________________________________________________________________________________________________\n",
      "conv2d_130 (Conv2D)             (None, 6, 6, 192)    147456      mixed3[0][0]                     \n",
      "__________________________________________________________________________________________________\n",
      "conv2d_133 (Conv2D)             (None, 6, 6, 192)    172032      activation_126[0][0]             \n",
      "__________________________________________________________________________________________________\n",
      "conv2d_138 (Conv2D)             (None, 6, 6, 192)    172032      activation_131[0][0]             \n",
      "__________________________________________________________________________________________________\n",
      "conv2d_139 (Conv2D)             (None, 6, 6, 192)    147456      average_pooling2d_12[0][0]       \n",
      "__________________________________________________________________________________________________\n",
      "batch_normalization_124 (BatchN (None, 6, 6, 192)    576         conv2d_130[0][0]                 \n",
      "__________________________________________________________________________________________________\n",
      "batch_normalization_127 (BatchN (None, 6, 6, 192)    576         conv2d_133[0][0]                 \n",
      "__________________________________________________________________________________________________\n",
      "batch_normalization_132 (BatchN (None, 6, 6, 192)    576         conv2d_138[0][0]                 \n",
      "__________________________________________________________________________________________________\n",
      "batch_normalization_133 (BatchN (None, 6, 6, 192)    576         conv2d_139[0][0]                 \n",
      "__________________________________________________________________________________________________\n",
      "activation_124 (Activation)     (None, 6, 6, 192)    0           batch_normalization_124[0][0]    \n",
      "__________________________________________________________________________________________________\n",
      "activation_127 (Activation)     (None, 6, 6, 192)    0           batch_normalization_127[0][0]    \n",
      "__________________________________________________________________________________________________\n",
      "activation_132 (Activation)     (None, 6, 6, 192)    0           batch_normalization_132[0][0]    \n",
      "__________________________________________________________________________________________________\n",
      "activation_133 (Activation)     (None, 6, 6, 192)    0           batch_normalization_133[0][0]    \n",
      "__________________________________________________________________________________________________\n",
      "mixed4 (Concatenate)            (None, 6, 6, 768)    0           activation_124[0][0]             \n",
      "                                                                 activation_127[0][0]             \n",
      "                                                                 activation_132[0][0]             \n",
      "                                                                 activation_133[0][0]             \n",
      "__________________________________________________________________________________________________\n",
      "conv2d_144 (Conv2D)             (None, 6, 6, 160)    122880      mixed4[0][0]                     \n",
      "__________________________________________________________________________________________________\n",
      "batch_normalization_138 (BatchN (None, 6, 6, 160)    480         conv2d_144[0][0]                 \n",
      "__________________________________________________________________________________________________\n",
      "activation_138 (Activation)     (None, 6, 6, 160)    0           batch_normalization_138[0][0]    \n",
      "__________________________________________________________________________________________________\n",
      "conv2d_145 (Conv2D)             (None, 6, 6, 160)    179200      activation_138[0][0]             \n",
      "__________________________________________________________________________________________________\n",
      "batch_normalization_139 (BatchN (None, 6, 6, 160)    480         conv2d_145[0][0]                 \n",
      "__________________________________________________________________________________________________\n",
      "activation_139 (Activation)     (None, 6, 6, 160)    0           batch_normalization_139[0][0]    \n",
      "__________________________________________________________________________________________________\n",
      "conv2d_141 (Conv2D)             (None, 6, 6, 160)    122880      mixed4[0][0]                     \n",
      "__________________________________________________________________________________________________\n",
      "conv2d_146 (Conv2D)             (None, 6, 6, 160)    179200      activation_139[0][0]             \n",
      "__________________________________________________________________________________________________\n",
      "batch_normalization_135 (BatchN (None, 6, 6, 160)    480         conv2d_141[0][0]                 \n",
      "__________________________________________________________________________________________________\n",
      "batch_normalization_140 (BatchN (None, 6, 6, 160)    480         conv2d_146[0][0]                 \n",
      "__________________________________________________________________________________________________\n",
      "activation_135 (Activation)     (None, 6, 6, 160)    0           batch_normalization_135[0][0]    \n",
      "__________________________________________________________________________________________________\n",
      "activation_140 (Activation)     (None, 6, 6, 160)    0           batch_normalization_140[0][0]    \n",
      "__________________________________________________________________________________________________\n",
      "conv2d_142 (Conv2D)             (None, 6, 6, 160)    179200      activation_135[0][0]             \n",
      "__________________________________________________________________________________________________\n",
      "conv2d_147 (Conv2D)             (None, 6, 6, 160)    179200      activation_140[0][0]             \n",
      "__________________________________________________________________________________________________\n",
      "batch_normalization_136 (BatchN (None, 6, 6, 160)    480         conv2d_142[0][0]                 \n",
      "__________________________________________________________________________________________________\n",
      "batch_normalization_141 (BatchN (None, 6, 6, 160)    480         conv2d_147[0][0]                 \n",
      "__________________________________________________________________________________________________\n",
      "activation_136 (Activation)     (None, 6, 6, 160)    0           batch_normalization_136[0][0]    \n",
      "__________________________________________________________________________________________________\n",
      "activation_141 (Activation)     (None, 6, 6, 160)    0           batch_normalization_141[0][0]    \n",
      "__________________________________________________________________________________________________\n",
      "average_pooling2d_13 (AveragePo (None, 6, 6, 768)    0           mixed4[0][0]                     \n",
      "__________________________________________________________________________________________________\n",
      "conv2d_140 (Conv2D)             (None, 6, 6, 192)    147456      mixed4[0][0]                     \n",
      "__________________________________________________________________________________________________\n",
      "conv2d_143 (Conv2D)             (None, 6, 6, 192)    215040      activation_136[0][0]             \n",
      "__________________________________________________________________________________________________\n",
      "conv2d_148 (Conv2D)             (None, 6, 6, 192)    215040      activation_141[0][0]             \n",
      "__________________________________________________________________________________________________\n",
      "conv2d_149 (Conv2D)             (None, 6, 6, 192)    147456      average_pooling2d_13[0][0]       \n",
      "__________________________________________________________________________________________________\n",
      "batch_normalization_134 (BatchN (None, 6, 6, 192)    576         conv2d_140[0][0]                 \n",
      "__________________________________________________________________________________________________\n",
      "batch_normalization_137 (BatchN (None, 6, 6, 192)    576         conv2d_143[0][0]                 \n",
      "__________________________________________________________________________________________________\n",
      "batch_normalization_142 (BatchN (None, 6, 6, 192)    576         conv2d_148[0][0]                 \n",
      "__________________________________________________________________________________________________\n",
      "batch_normalization_143 (BatchN (None, 6, 6, 192)    576         conv2d_149[0][0]                 \n",
      "__________________________________________________________________________________________________\n",
      "activation_134 (Activation)     (None, 6, 6, 192)    0           batch_normalization_134[0][0]    \n",
      "__________________________________________________________________________________________________\n",
      "activation_137 (Activation)     (None, 6, 6, 192)    0           batch_normalization_137[0][0]    \n",
      "__________________________________________________________________________________________________\n",
      "activation_142 (Activation)     (None, 6, 6, 192)    0           batch_normalization_142[0][0]    \n",
      "__________________________________________________________________________________________________\n",
      "activation_143 (Activation)     (None, 6, 6, 192)    0           batch_normalization_143[0][0]    \n",
      "__________________________________________________________________________________________________\n",
      "mixed5 (Concatenate)            (None, 6, 6, 768)    0           activation_134[0][0]             \n",
      "                                                                 activation_137[0][0]             \n",
      "                                                                 activation_142[0][0]             \n",
      "                                                                 activation_143[0][0]             \n",
      "__________________________________________________________________________________________________\n",
      "conv2d_154 (Conv2D)             (None, 6, 6, 160)    122880      mixed5[0][0]                     \n",
      "__________________________________________________________________________________________________\n",
      "batch_normalization_148 (BatchN (None, 6, 6, 160)    480         conv2d_154[0][0]                 \n",
      "__________________________________________________________________________________________________\n",
      "activation_148 (Activation)     (None, 6, 6, 160)    0           batch_normalization_148[0][0]    \n",
      "__________________________________________________________________________________________________\n",
      "conv2d_155 (Conv2D)             (None, 6, 6, 160)    179200      activation_148[0][0]             \n",
      "__________________________________________________________________________________________________\n",
      "batch_normalization_149 (BatchN (None, 6, 6, 160)    480         conv2d_155[0][0]                 \n",
      "__________________________________________________________________________________________________\n",
      "activation_149 (Activation)     (None, 6, 6, 160)    0           batch_normalization_149[0][0]    \n",
      "__________________________________________________________________________________________________\n",
      "conv2d_151 (Conv2D)             (None, 6, 6, 160)    122880      mixed5[0][0]                     \n",
      "__________________________________________________________________________________________________\n",
      "conv2d_156 (Conv2D)             (None, 6, 6, 160)    179200      activation_149[0][0]             \n",
      "__________________________________________________________________________________________________\n",
      "batch_normalization_145 (BatchN (None, 6, 6, 160)    480         conv2d_151[0][0]                 \n",
      "__________________________________________________________________________________________________\n",
      "batch_normalization_150 (BatchN (None, 6, 6, 160)    480         conv2d_156[0][0]                 \n",
      "__________________________________________________________________________________________________\n",
      "activation_145 (Activation)     (None, 6, 6, 160)    0           batch_normalization_145[0][0]    \n",
      "__________________________________________________________________________________________________\n",
      "activation_150 (Activation)     (None, 6, 6, 160)    0           batch_normalization_150[0][0]    \n",
      "__________________________________________________________________________________________________\n",
      "conv2d_152 (Conv2D)             (None, 6, 6, 160)    179200      activation_145[0][0]             \n",
      "__________________________________________________________________________________________________\n",
      "conv2d_157 (Conv2D)             (None, 6, 6, 160)    179200      activation_150[0][0]             \n",
      "__________________________________________________________________________________________________\n",
      "batch_normalization_146 (BatchN (None, 6, 6, 160)    480         conv2d_152[0][0]                 \n",
      "__________________________________________________________________________________________________\n",
      "batch_normalization_151 (BatchN (None, 6, 6, 160)    480         conv2d_157[0][0]                 \n",
      "__________________________________________________________________________________________________\n",
      "activation_146 (Activation)     (None, 6, 6, 160)    0           batch_normalization_146[0][0]    \n",
      "__________________________________________________________________________________________________\n",
      "activation_151 (Activation)     (None, 6, 6, 160)    0           batch_normalization_151[0][0]    \n",
      "__________________________________________________________________________________________________\n",
      "average_pooling2d_14 (AveragePo (None, 6, 6, 768)    0           mixed5[0][0]                     \n",
      "__________________________________________________________________________________________________\n",
      "conv2d_150 (Conv2D)             (None, 6, 6, 192)    147456      mixed5[0][0]                     \n",
      "__________________________________________________________________________________________________\n",
      "conv2d_153 (Conv2D)             (None, 6, 6, 192)    215040      activation_146[0][0]             \n",
      "__________________________________________________________________________________________________\n",
      "conv2d_158 (Conv2D)             (None, 6, 6, 192)    215040      activation_151[0][0]             \n",
      "__________________________________________________________________________________________________\n",
      "conv2d_159 (Conv2D)             (None, 6, 6, 192)    147456      average_pooling2d_14[0][0]       \n",
      "__________________________________________________________________________________________________\n",
      "batch_normalization_144 (BatchN (None, 6, 6, 192)    576         conv2d_150[0][0]                 \n",
      "__________________________________________________________________________________________________\n",
      "batch_normalization_147 (BatchN (None, 6, 6, 192)    576         conv2d_153[0][0]                 \n",
      "__________________________________________________________________________________________________\n",
      "batch_normalization_152 (BatchN (None, 6, 6, 192)    576         conv2d_158[0][0]                 \n",
      "__________________________________________________________________________________________________\n",
      "batch_normalization_153 (BatchN (None, 6, 6, 192)    576         conv2d_159[0][0]                 \n",
      "__________________________________________________________________________________________________\n",
      "activation_144 (Activation)     (None, 6, 6, 192)    0           batch_normalization_144[0][0]    \n",
      "__________________________________________________________________________________________________\n",
      "activation_147 (Activation)     (None, 6, 6, 192)    0           batch_normalization_147[0][0]    \n",
      "__________________________________________________________________________________________________\n",
      "activation_152 (Activation)     (None, 6, 6, 192)    0           batch_normalization_152[0][0]    \n",
      "__________________________________________________________________________________________________\n",
      "activation_153 (Activation)     (None, 6, 6, 192)    0           batch_normalization_153[0][0]    \n",
      "__________________________________________________________________________________________________\n",
      "mixed6 (Concatenate)            (None, 6, 6, 768)    0           activation_144[0][0]             \n",
      "                                                                 activation_147[0][0]             \n",
      "                                                                 activation_152[0][0]             \n",
      "                                                                 activation_153[0][0]             \n",
      "__________________________________________________________________________________________________\n",
      "conv2d_164 (Conv2D)             (None, 6, 6, 192)    147456      mixed6[0][0]                     \n",
      "__________________________________________________________________________________________________\n",
      "batch_normalization_158 (BatchN (None, 6, 6, 192)    576         conv2d_164[0][0]                 \n",
      "__________________________________________________________________________________________________\n",
      "activation_158 (Activation)     (None, 6, 6, 192)    0           batch_normalization_158[0][0]    \n",
      "__________________________________________________________________________________________________\n",
      "conv2d_165 (Conv2D)             (None, 6, 6, 192)    258048      activation_158[0][0]             \n",
      "__________________________________________________________________________________________________\n",
      "batch_normalization_159 (BatchN (None, 6, 6, 192)    576         conv2d_165[0][0]                 \n",
      "__________________________________________________________________________________________________\n",
      "activation_159 (Activation)     (None, 6, 6, 192)    0           batch_normalization_159[0][0]    \n",
      "__________________________________________________________________________________________________\n",
      "conv2d_161 (Conv2D)             (None, 6, 6, 192)    147456      mixed6[0][0]                     \n",
      "__________________________________________________________________________________________________\n",
      "conv2d_166 (Conv2D)             (None, 6, 6, 192)    258048      activation_159[0][0]             \n",
      "__________________________________________________________________________________________________\n",
      "batch_normalization_155 (BatchN (None, 6, 6, 192)    576         conv2d_161[0][0]                 \n",
      "__________________________________________________________________________________________________\n",
      "batch_normalization_160 (BatchN (None, 6, 6, 192)    576         conv2d_166[0][0]                 \n",
      "__________________________________________________________________________________________________\n",
      "activation_155 (Activation)     (None, 6, 6, 192)    0           batch_normalization_155[0][0]    \n",
      "__________________________________________________________________________________________________\n",
      "activation_160 (Activation)     (None, 6, 6, 192)    0           batch_normalization_160[0][0]    \n",
      "__________________________________________________________________________________________________\n",
      "conv2d_162 (Conv2D)             (None, 6, 6, 192)    258048      activation_155[0][0]             \n",
      "__________________________________________________________________________________________________\n",
      "conv2d_167 (Conv2D)             (None, 6, 6, 192)    258048      activation_160[0][0]             \n",
      "__________________________________________________________________________________________________\n",
      "batch_normalization_156 (BatchN (None, 6, 6, 192)    576         conv2d_162[0][0]                 \n",
      "__________________________________________________________________________________________________\n",
      "batch_normalization_161 (BatchN (None, 6, 6, 192)    576         conv2d_167[0][0]                 \n",
      "__________________________________________________________________________________________________\n",
      "activation_156 (Activation)     (None, 6, 6, 192)    0           batch_normalization_156[0][0]    \n",
      "__________________________________________________________________________________________________\n",
      "activation_161 (Activation)     (None, 6, 6, 192)    0           batch_normalization_161[0][0]    \n",
      "__________________________________________________________________________________________________\n",
      "average_pooling2d_15 (AveragePo (None, 6, 6, 768)    0           mixed6[0][0]                     \n",
      "__________________________________________________________________________________________________\n",
      "conv2d_160 (Conv2D)             (None, 6, 6, 192)    147456      mixed6[0][0]                     \n",
      "__________________________________________________________________________________________________\n",
      "conv2d_163 (Conv2D)             (None, 6, 6, 192)    258048      activation_156[0][0]             \n",
      "__________________________________________________________________________________________________\n",
      "conv2d_168 (Conv2D)             (None, 6, 6, 192)    258048      activation_161[0][0]             \n",
      "__________________________________________________________________________________________________\n",
      "conv2d_169 (Conv2D)             (None, 6, 6, 192)    147456      average_pooling2d_15[0][0]       \n",
      "__________________________________________________________________________________________________\n",
      "batch_normalization_154 (BatchN (None, 6, 6, 192)    576         conv2d_160[0][0]                 \n",
      "__________________________________________________________________________________________________\n",
      "batch_normalization_157 (BatchN (None, 6, 6, 192)    576         conv2d_163[0][0]                 \n",
      "__________________________________________________________________________________________________\n",
      "batch_normalization_162 (BatchN (None, 6, 6, 192)    576         conv2d_168[0][0]                 \n",
      "__________________________________________________________________________________________________\n",
      "batch_normalization_163 (BatchN (None, 6, 6, 192)    576         conv2d_169[0][0]                 \n",
      "__________________________________________________________________________________________________\n",
      "activation_154 (Activation)     (None, 6, 6, 192)    0           batch_normalization_154[0][0]    \n",
      "__________________________________________________________________________________________________\n",
      "activation_157 (Activation)     (None, 6, 6, 192)    0           batch_normalization_157[0][0]    \n",
      "__________________________________________________________________________________________________\n",
      "activation_162 (Activation)     (None, 6, 6, 192)    0           batch_normalization_162[0][0]    \n",
      "__________________________________________________________________________________________________\n",
      "activation_163 (Activation)     (None, 6, 6, 192)    0           batch_normalization_163[0][0]    \n",
      "__________________________________________________________________________________________________\n",
      "mixed7 (Concatenate)            (None, 6, 6, 768)    0           activation_154[0][0]             \n",
      "                                                                 activation_157[0][0]             \n",
      "                                                                 activation_162[0][0]             \n",
      "                                                                 activation_163[0][0]             \n",
      "__________________________________________________________________________________________________\n",
      "conv2d_172 (Conv2D)             (None, 6, 6, 192)    147456      mixed7[0][0]                     \n",
      "__________________________________________________________________________________________________\n",
      "batch_normalization_166 (BatchN (None, 6, 6, 192)    576         conv2d_172[0][0]                 \n",
      "__________________________________________________________________________________________________\n",
      "activation_166 (Activation)     (None, 6, 6, 192)    0           batch_normalization_166[0][0]    \n",
      "__________________________________________________________________________________________________\n",
      "conv2d_173 (Conv2D)             (None, 6, 6, 192)    258048      activation_166[0][0]             \n",
      "__________________________________________________________________________________________________\n",
      "batch_normalization_167 (BatchN (None, 6, 6, 192)    576         conv2d_173[0][0]                 \n",
      "__________________________________________________________________________________________________\n",
      "activation_167 (Activation)     (None, 6, 6, 192)    0           batch_normalization_167[0][0]    \n",
      "__________________________________________________________________________________________________\n",
      "conv2d_170 (Conv2D)             (None, 6, 6, 192)    147456      mixed7[0][0]                     \n",
      "__________________________________________________________________________________________________\n",
      "conv2d_174 (Conv2D)             (None, 6, 6, 192)    258048      activation_167[0][0]             \n",
      "__________________________________________________________________________________________________\n",
      "batch_normalization_164 (BatchN (None, 6, 6, 192)    576         conv2d_170[0][0]                 \n",
      "__________________________________________________________________________________________________\n",
      "batch_normalization_168 (BatchN (None, 6, 6, 192)    576         conv2d_174[0][0]                 \n",
      "__________________________________________________________________________________________________\n",
      "activation_164 (Activation)     (None, 6, 6, 192)    0           batch_normalization_164[0][0]    \n",
      "__________________________________________________________________________________________________\n",
      "activation_168 (Activation)     (None, 6, 6, 192)    0           batch_normalization_168[0][0]    \n",
      "__________________________________________________________________________________________________\n",
      "conv2d_171 (Conv2D)             (None, 2, 2, 320)    552960      activation_164[0][0]             \n",
      "__________________________________________________________________________________________________\n",
      "conv2d_175 (Conv2D)             (None, 2, 2, 192)    331776      activation_168[0][0]             \n",
      "__________________________________________________________________________________________________\n",
      "batch_normalization_165 (BatchN (None, 2, 2, 320)    960         conv2d_171[0][0]                 \n",
      "__________________________________________________________________________________________________\n",
      "batch_normalization_169 (BatchN (None, 2, 2, 192)    576         conv2d_175[0][0]                 \n",
      "__________________________________________________________________________________________________\n",
      "activation_165 (Activation)     (None, 2, 2, 320)    0           batch_normalization_165[0][0]    \n",
      "__________________________________________________________________________________________________\n",
      "activation_169 (Activation)     (None, 2, 2, 192)    0           batch_normalization_169[0][0]    \n",
      "__________________________________________________________________________________________________\n",
      "max_pooling2d_13 (MaxPooling2D) (None, 2, 2, 768)    0           mixed7[0][0]                     \n",
      "__________________________________________________________________________________________________\n",
      "mixed8 (Concatenate)            (None, 2, 2, 1280)   0           activation_165[0][0]             \n",
      "                                                                 activation_169[0][0]             \n",
      "                                                                 max_pooling2d_13[0][0]           \n",
      "__________________________________________________________________________________________________\n",
      "conv2d_180 (Conv2D)             (None, 2, 2, 448)    573440      mixed8[0][0]                     \n",
      "__________________________________________________________________________________________________\n",
      "batch_normalization_174 (BatchN (None, 2, 2, 448)    1344        conv2d_180[0][0]                 \n",
      "__________________________________________________________________________________________________\n",
      "activation_174 (Activation)     (None, 2, 2, 448)    0           batch_normalization_174[0][0]    \n",
      "__________________________________________________________________________________________________\n",
      "conv2d_177 (Conv2D)             (None, 2, 2, 384)    491520      mixed8[0][0]                     \n",
      "__________________________________________________________________________________________________\n",
      "conv2d_181 (Conv2D)             (None, 2, 2, 384)    1548288     activation_174[0][0]             \n",
      "__________________________________________________________________________________________________\n",
      "batch_normalization_171 (BatchN (None, 2, 2, 384)    1152        conv2d_177[0][0]                 \n",
      "__________________________________________________________________________________________________\n",
      "batch_normalization_175 (BatchN (None, 2, 2, 384)    1152        conv2d_181[0][0]                 \n",
      "__________________________________________________________________________________________________\n",
      "activation_171 (Activation)     (None, 2, 2, 384)    0           batch_normalization_171[0][0]    \n",
      "__________________________________________________________________________________________________\n",
      "activation_175 (Activation)     (None, 2, 2, 384)    0           batch_normalization_175[0][0]    \n",
      "__________________________________________________________________________________________________\n",
      "conv2d_178 (Conv2D)             (None, 2, 2, 384)    442368      activation_171[0][0]             \n",
      "__________________________________________________________________________________________________\n",
      "conv2d_179 (Conv2D)             (None, 2, 2, 384)    442368      activation_171[0][0]             \n",
      "__________________________________________________________________________________________________\n",
      "conv2d_182 (Conv2D)             (None, 2, 2, 384)    442368      activation_175[0][0]             \n",
      "__________________________________________________________________________________________________\n",
      "conv2d_183 (Conv2D)             (None, 2, 2, 384)    442368      activation_175[0][0]             \n",
      "__________________________________________________________________________________________________\n",
      "average_pooling2d_16 (AveragePo (None, 2, 2, 1280)   0           mixed8[0][0]                     \n",
      "__________________________________________________________________________________________________\n",
      "conv2d_176 (Conv2D)             (None, 2, 2, 320)    409600      mixed8[0][0]                     \n",
      "__________________________________________________________________________________________________\n",
      "batch_normalization_172 (BatchN (None, 2, 2, 384)    1152        conv2d_178[0][0]                 \n",
      "__________________________________________________________________________________________________\n",
      "batch_normalization_173 (BatchN (None, 2, 2, 384)    1152        conv2d_179[0][0]                 \n",
      "__________________________________________________________________________________________________\n",
      "batch_normalization_176 (BatchN (None, 2, 2, 384)    1152        conv2d_182[0][0]                 \n",
      "__________________________________________________________________________________________________\n",
      "batch_normalization_177 (BatchN (None, 2, 2, 384)    1152        conv2d_183[0][0]                 \n",
      "__________________________________________________________________________________________________\n",
      "conv2d_184 (Conv2D)             (None, 2, 2, 192)    245760      average_pooling2d_16[0][0]       \n",
      "__________________________________________________________________________________________________\n",
      "batch_normalization_170 (BatchN (None, 2, 2, 320)    960         conv2d_176[0][0]                 \n",
      "__________________________________________________________________________________________________\n",
      "activation_172 (Activation)     (None, 2, 2, 384)    0           batch_normalization_172[0][0]    \n",
      "__________________________________________________________________________________________________\n",
      "activation_173 (Activation)     (None, 2, 2, 384)    0           batch_normalization_173[0][0]    \n",
      "__________________________________________________________________________________________________\n",
      "activation_176 (Activation)     (None, 2, 2, 384)    0           batch_normalization_176[0][0]    \n",
      "__________________________________________________________________________________________________\n",
      "activation_177 (Activation)     (None, 2, 2, 384)    0           batch_normalization_177[0][0]    \n",
      "__________________________________________________________________________________________________\n",
      "batch_normalization_178 (BatchN (None, 2, 2, 192)    576         conv2d_184[0][0]                 \n",
      "__________________________________________________________________________________________________\n",
      "activation_170 (Activation)     (None, 2, 2, 320)    0           batch_normalization_170[0][0]    \n",
      "__________________________________________________________________________________________________\n",
      "mixed9_0 (Concatenate)          (None, 2, 2, 768)    0           activation_172[0][0]             \n",
      "                                                                 activation_173[0][0]             \n",
      "__________________________________________________________________________________________________\n",
      "concatenate_2 (Concatenate)     (None, 2, 2, 768)    0           activation_176[0][0]             \n",
      "                                                                 activation_177[0][0]             \n",
      "__________________________________________________________________________________________________\n",
      "activation_178 (Activation)     (None, 2, 2, 192)    0           batch_normalization_178[0][0]    \n",
      "__________________________________________________________________________________________________\n",
      "mixed9 (Concatenate)            (None, 2, 2, 2048)   0           activation_170[0][0]             \n",
      "                                                                 mixed9_0[0][0]                   \n",
      "                                                                 concatenate_2[0][0]              \n",
      "                                                                 activation_178[0][0]             \n",
      "__________________________________________________________________________________________________\n",
      "conv2d_189 (Conv2D)             (None, 2, 2, 448)    917504      mixed9[0][0]                     \n",
      "__________________________________________________________________________________________________\n",
      "batch_normalization_183 (BatchN (None, 2, 2, 448)    1344        conv2d_189[0][0]                 \n",
      "__________________________________________________________________________________________________\n",
      "activation_183 (Activation)     (None, 2, 2, 448)    0           batch_normalization_183[0][0]    \n",
      "__________________________________________________________________________________________________\n",
      "conv2d_186 (Conv2D)             (None, 2, 2, 384)    786432      mixed9[0][0]                     \n",
      "__________________________________________________________________________________________________\n",
      "conv2d_190 (Conv2D)             (None, 2, 2, 384)    1548288     activation_183[0][0]             \n",
      "__________________________________________________________________________________________________\n",
      "batch_normalization_180 (BatchN (None, 2, 2, 384)    1152        conv2d_186[0][0]                 \n",
      "__________________________________________________________________________________________________\n",
      "batch_normalization_184 (BatchN (None, 2, 2, 384)    1152        conv2d_190[0][0]                 \n",
      "__________________________________________________________________________________________________\n",
      "activation_180 (Activation)     (None, 2, 2, 384)    0           batch_normalization_180[0][0]    \n",
      "__________________________________________________________________________________________________\n",
      "activation_184 (Activation)     (None, 2, 2, 384)    0           batch_normalization_184[0][0]    \n",
      "__________________________________________________________________________________________________\n",
      "conv2d_187 (Conv2D)             (None, 2, 2, 384)    442368      activation_180[0][0]             \n",
      "__________________________________________________________________________________________________\n",
      "conv2d_188 (Conv2D)             (None, 2, 2, 384)    442368      activation_180[0][0]             \n",
      "__________________________________________________________________________________________________\n",
      "conv2d_191 (Conv2D)             (None, 2, 2, 384)    442368      activation_184[0][0]             \n",
      "__________________________________________________________________________________________________\n",
      "conv2d_192 (Conv2D)             (None, 2, 2, 384)    442368      activation_184[0][0]             \n",
      "__________________________________________________________________________________________________\n",
      "average_pooling2d_17 (AveragePo (None, 2, 2, 2048)   0           mixed9[0][0]                     \n",
      "__________________________________________________________________________________________________\n",
      "conv2d_185 (Conv2D)             (None, 2, 2, 320)    655360      mixed9[0][0]                     \n",
      "__________________________________________________________________________________________________\n",
      "batch_normalization_181 (BatchN (None, 2, 2, 384)    1152        conv2d_187[0][0]                 \n",
      "__________________________________________________________________________________________________\n",
      "batch_normalization_182 (BatchN (None, 2, 2, 384)    1152        conv2d_188[0][0]                 \n",
      "__________________________________________________________________________________________________\n",
      "batch_normalization_185 (BatchN (None, 2, 2, 384)    1152        conv2d_191[0][0]                 \n",
      "__________________________________________________________________________________________________\n",
      "batch_normalization_186 (BatchN (None, 2, 2, 384)    1152        conv2d_192[0][0]                 \n",
      "__________________________________________________________________________________________________\n",
      "conv2d_193 (Conv2D)             (None, 2, 2, 192)    393216      average_pooling2d_17[0][0]       \n",
      "__________________________________________________________________________________________________\n",
      "batch_normalization_179 (BatchN (None, 2, 2, 320)    960         conv2d_185[0][0]                 \n",
      "__________________________________________________________________________________________________\n",
      "activation_181 (Activation)     (None, 2, 2, 384)    0           batch_normalization_181[0][0]    \n",
      "__________________________________________________________________________________________________\n",
      "activation_182 (Activation)     (None, 2, 2, 384)    0           batch_normalization_182[0][0]    \n",
      "__________________________________________________________________________________________________\n",
      "activation_185 (Activation)     (None, 2, 2, 384)    0           batch_normalization_185[0][0]    \n",
      "__________________________________________________________________________________________________\n",
      "activation_186 (Activation)     (None, 2, 2, 384)    0           batch_normalization_186[0][0]    \n",
      "__________________________________________________________________________________________________\n",
      "batch_normalization_187 (BatchN (None, 2, 2, 192)    576         conv2d_193[0][0]                 \n",
      "__________________________________________________________________________________________________\n",
      "activation_179 (Activation)     (None, 2, 2, 320)    0           batch_normalization_179[0][0]    \n",
      "__________________________________________________________________________________________________\n",
      "mixed9_1 (Concatenate)          (None, 2, 2, 768)    0           activation_181[0][0]             \n",
      "                                                                 activation_182[0][0]             \n",
      "__________________________________________________________________________________________________\n",
      "concatenate_3 (Concatenate)     (None, 2, 2, 768)    0           activation_185[0][0]             \n",
      "                                                                 activation_186[0][0]             \n",
      "__________________________________________________________________________________________________\n",
      "activation_187 (Activation)     (None, 2, 2, 192)    0           batch_normalization_187[0][0]    \n",
      "__________________________________________________________________________________________________\n",
      "mixed10 (Concatenate)           (None, 2, 2, 2048)   0           activation_179[0][0]             \n",
      "                                                                 mixed9_1[0][0]                   \n",
      "                                                                 concatenate_3[0][0]              \n",
      "                                                                 activation_187[0][0]             \n",
      "==================================================================================================\n",
      "Total params: 21,802,784\n",
      "Trainable params: 0\n",
      "Non-trainable params: 21,802,784\n",
      "__________________________________________________________________________________________________\n"
     ]
    }
   ],
   "source": [
    "base_mod_V3.summary()"
   ]
  },
  {
   "cell_type": "markdown",
   "id": "956115be",
   "metadata": {},
   "source": [
    "<font size=2>**Remove Weights, Average Layer and Output Layer**</font>"
   ]
  },
  {
   "cell_type": "code",
   "execution_count": 72,
   "id": "0b72c817",
   "metadata": {},
   "outputs": [],
   "source": [
    "# Freeze weights of the base model\n",
    "base_mod_V3.trainable = False\n",
    "\n",
    "# Add global average layer\n",
    "global_average_layer = tf.keras.layers.GlobalAveragePooling2D()\n",
    "\n",
    "# Add prediction layer\n",
    "prediction_layer = tf.keras.layers.Dense(1)"
   ]
  },
  {
   "cell_type": "code",
   "execution_count": 73,
   "id": "ca63bf63",
   "metadata": {},
   "outputs": [],
   "source": [
    "# Build final model\n",
    "model_V3 = tf.keras.Sequential([\n",
    "  base_mod_V3,\n",
    "  global_average_layer,\n",
    "  prediction_layer\n",
    "])\n",
    "\n",
    "# Compilar modelo\n",
    "# model_V3.compile(optimizer='adam', loss='binary_crossentropy', metrics=['accuracy'])\n",
    "base_learning_rate = 0.0001\n",
    "model_V3.compile(optimizer=tf.keras.optimizers.RMSprop(learning_rate=base_learning_rate),\n",
    "              loss=tf.keras.losses.BinaryCrossentropy(from_logits=True),\n",
    "              metrics=['accuracy'])"
   ]
  },
  {
   "cell_type": "code",
   "execution_count": 77,
   "id": "38673914",
   "metadata": {},
   "outputs": [
    {
     "name": "stdout",
     "output_type": "stream",
     "text": [
      "Model: \"sequential_4\"\n",
      "_________________________________________________________________\n",
      "Layer (type)                 Output Shape              Param #   \n",
      "=================================================================\n",
      "inception_v3 (Functional)    (None, 2, 2, 2048)        21802784  \n",
      "_________________________________________________________________\n",
      "global_average_pooling2d_1 ( (None, 2048)              0         \n",
      "_________________________________________________________________\n",
      "dense_16 (Dense)             (None, 1)                 2049      \n",
      "=================================================================\n",
      "Total params: 21,804,833\n",
      "Trainable params: 2,049\n",
      "Non-trainable params: 21,802,784\n",
      "_________________________________________________________________\n"
     ]
    }
   ],
   "source": [
    "model_V3.summary()"
   ]
  },
  {
   "cell_type": "markdown",
   "id": "da033783",
   "metadata": {},
   "source": [
    "<font size=2>**MODEL TRAINING**</font>"
   ]
  },
  {
   "cell_type": "code",
   "execution_count": 74,
   "id": "45acec8c",
   "metadata": {},
   "outputs": [
    {
     "name": "stdout",
     "output_type": "stream",
     "text": [
      "Epoch 1/10\n",
      "209/209 [==============================] - 33s 141ms/step - loss: 0.4495 - accuracy: 0.7769 - val_loss: 0.3109 - val_accuracy: 0.8801\n",
      "Epoch 2/10\n",
      "209/209 [==============================] - 26s 127ms/step - loss: 0.2714 - accuracy: 0.8858 - val_loss: 0.2416 - val_accuracy: 0.8971\n",
      "Epoch 3/10\n",
      "209/209 [==============================] - 30s 142ms/step - loss: 0.2308 - accuracy: 0.9061 - val_loss: 0.2193 - val_accuracy: 0.9019\n",
      "Epoch 4/10\n",
      "209/209 [==============================] - 29s 139ms/step - loss: 0.2093 - accuracy: 0.9142 - val_loss: 0.2023 - val_accuracy: 0.9213\n",
      "Epoch 5/10\n",
      "209/209 [==============================] - 23s 111ms/step - loss: 0.1960 - accuracy: 0.9217 - val_loss: 0.1917 - val_accuracy: 0.9213\n",
      "Epoch 6/10\n",
      "209/209 [==============================] - 25s 119ms/step - loss: 0.1857 - accuracy: 0.9257 - val_loss: 0.1838 - val_accuracy: 0.9237\n",
      "Epoch 7/10\n",
      "209/209 [==============================] - 23s 110ms/step - loss: 0.1769 - accuracy: 0.9290 - val_loss: 0.1779 - val_accuracy: 0.9262\n",
      "Epoch 8/10\n",
      "209/209 [==============================] - 21s 99ms/step - loss: 0.1702 - accuracy: 0.9337 - val_loss: 0.1778 - val_accuracy: 0.9237\n",
      "Epoch 9/10\n",
      "209/209 [==============================] - 21s 100ms/step - loss: 0.1630 - accuracy: 0.9347 - val_loss: 0.1734 - val_accuracy: 0.9286\n",
      "Epoch 10/10\n",
      "209/209 [==============================] - 32s 153ms/step - loss: 0.1592 - accuracy: 0.9389 - val_loss: 0.1682 - val_accuracy: 0.9346\n"
     ]
    }
   ],
   "source": [
    "# Training the model\n",
    "history_V3=model_V3.fit(X_train, y_train, epochs=EPOCHS, validation_data=(X_val, y_val),batch_size=BATCH_SIZE)"
   ]
  },
  {
   "cell_type": "markdown",
   "id": "4b9cc37e",
   "metadata": {},
   "source": [
    "<font size=2>**MODEL EVALUATION**</font>"
   ]
  },
  {
   "cell_type": "code",
   "execution_count": 75,
   "id": "c2d57654",
   "metadata": {},
   "outputs": [
    {
     "name": "stdout",
     "output_type": "stream",
     "text": [
      "27/27 [==============================] - 2s 65ms/step - loss: 0.1604 - accuracy: 0.9353\n",
      "ACC. TEST: 0.935251772403717 -- ACC. TRAIN: 0.9389221668243408 \n"
     ]
    }
   ],
   "source": [
    "accuracy_train = model_V3.history.history['accuracy'][-1]\n",
    "loss0, accuracy_test = model_V3.evaluate(X_test, y_test)\n",
    "\n",
    "print(f'ACC. TEST: {accuracy_test} -- ACC. TRAIN: {accuracy_train} ')"
   ]
  },
  {
   "cell_type": "markdown",
   "id": "27f02aad",
   "metadata": {},
   "source": [
    "<font size=2>**LEARNING CURVES**</font>"
   ]
  },
  {
   "cell_type": "code",
   "execution_count": 76,
   "id": "24e79200",
   "metadata": {},
   "outputs": [
    {
     "name": "stderr",
     "output_type": "stream",
     "text": [
      "C:\\Users\\macka\\AppData\\Local\\Temp\\ipykernel_27216\\3074135955.py:19: UserWarning: Matplotlib is currently using module://matplotlib_inline.backend_inline, which is a non-GUI backend, so cannot show the figure.\n",
      "  fig.show()\n"
     ]
    },
    {
     "data": {
      "image/png": "[encoded data removed]",
      "text/plain": [
       "<Figure size 1000x500 with 2 Axes>"
      ]
     },
     "metadata": {},
     "output_type": "display_data"
    }
   ],
   "source": [
    "fig, axs = plt.subplots(nrows=1, ncols=2, figsize=(10, 5))\n",
    "\n",
    "# Visualize the accuracy of training and validation over time\n",
    "axs[0].plot(history_V3.history['accuracy'])\n",
    "axs[0].plot(history_V3.history['val_accuracy'])\n",
    "axs[0].set_title('Curvas de Aprendizaje')\n",
    "axs[0].set_ylabel('Precisión')\n",
    "axs[0].set_xlabel('Época')\n",
    "axs[0].legend(['Entrenamiento', 'Validación'], loc='upper left')\n",
    "\n",
    "\n",
    "# Visualize the accuracy of training and validation over time\n",
    "axs[1].plot(history_V3.history['loss'])\n",
    "axs[1].plot(history_V3.history['val_loss'])\n",
    "axs[1].set_title('Curvas de Aprendizaje')\n",
    "axs[1].set_ylabel('Pérdida')\n",
    "axs[1].set_xlabel('Época')\n",
    "axs[1].legend(['Entrenamiento', 'Validación'], loc='upper left')\n",
    "fig.show()"
   ]
  },
  {
   "cell_type": "code",
   "execution_count": null,
   "id": "2f779b7c",
   "metadata": {},
   "outputs": [],
   "source": []
  }
 ],
 "metadata": {
  "kernelspec": {
   "display_name": "Python 3 (ipykernel)",
   "language": "python",
   "name": "python3"
  },
  "language_info": {
   "codemirror_mode": {
    "name": "ipython",
    "version": 3
   },
   "file_extension": ".py",
   "mimetype": "text/x-python",
   "name": "python",
   "nbconvert_exporter": "python",
   "pygments_lexer": "ipython3",
   "version": "3.9.0"
  },
  "toc": {
   "base_numbering": 1,
   "nav_menu": {},
   "number_sections": true,
   "sideBar": true,
   "skip_h1_title": false,
   "title_cell": "Table of Contents",
   "title_sidebar": "Contents",
   "toc_cell": false,
   "toc_position": {},
   "toc_section_display": true,
   "toc_window_display": false
  }
 },
 "nbformat": 4,
 "nbformat_minor": 5
}
